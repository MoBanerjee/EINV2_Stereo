{
 "cells": [
  {
   "cell_type": "code",
   "execution_count": 78,
   "metadata": {},
   "outputs": [],
   "source": [
    "import soundfile as sf\n",
    "from pathlib import Path\n",
    "import numpy"
   ]
  },
  {
   "cell_type": "code",
   "execution_count": 79,
   "metadata": {},
   "outputs": [],
   "source": [
    "ref_files_folder=\"/home/var/Desktop/Mohor/einv2s/dataset/synth_dataset/official/foa\"\n",
    "new_folder=\"/home/var/Desktop/Mohor/einv2s/dataset_converted_stereo/synth_dataset/official/foa\""
   ]
  },
  {
   "cell_type": "code",
   "execution_count": 80,
   "metadata": {},
   "outputs": [],
   "source": [
    "file_list = sorted(Path(ref_files_folder).glob(\"*.wav\"))"
   ]
  },
  {
   "cell_type": "code",
   "execution_count": 82,
   "metadata": {},
   "outputs": [],
   "source": [
    "for f in file_list:\n",
    "    data, samplerate = sf.read(f)\n",
    "    fn=f.stem\n",
    "    newfn=new_folder+\"/\"+fn+\".wav\"\n",
    "    left=data[:,0]+data[:,1]\n",
    "    right=data[:,0]-data[:,1]\n",
    "    left=left.reshape(left.shape[0],1)\n",
    "    right=right.reshape(right.shape[0],1)\n",
    "    stereos=numpy.concatenate((left,right),axis=1)\n",
    "    sf.write(newfn, stereos, samplerate)"
   ]
  },
  {
   "cell_type": "code",
   "execution_count": 81,
   "metadata": {},
   "outputs": [
    {
     "name": "stdout",
     "output_type": "stream",
     "text": [
      "1200\n"
     ]
    }
   ],
   "source": [
    "print(len(file_list))"
   ]
  },
  {
   "cell_type": "code",
   "execution_count": 85,
   "metadata": {},
   "outputs": [
    {
     "name": "stdout",
     "output_type": "stream",
     "text": [
      "SoundFile('/home/var/Desktop/Mohor/einv2s/dataset/synth_dataset/official/foa/fold1_room10_mix001.wav', mode='r', samplerate=24000, channels=4, format='WAV', subtype='PCM_16', endian='FILE')\n"
     ]
    }
   ],
   "source": [
    "ob=sf.SoundFile(file_list[0])\n",
    "print(ob)"
   ]
  },
  {
   "cell_type": "code",
   "execution_count": 86,
   "metadata": {},
   "outputs": [],
   "source": [
    "new_list_files=sorted(Path(new_folder).glob(\"*.wav\"))"
   ]
  },
  {
   "cell_type": "code",
   "execution_count": 87,
   "metadata": {},
   "outputs": [
    {
     "name": "stdout",
     "output_type": "stream",
     "text": [
      "1200\n"
     ]
    }
   ],
   "source": [
    "print(len(new_list_files))"
   ]
  },
  {
   "cell_type": "code",
   "execution_count": 88,
   "metadata": {},
   "outputs": [
    {
     "name": "stdout",
     "output_type": "stream",
     "text": [
      "SoundFile('/home/var/Desktop/Mohor/einv2s/dataset_converted_stereo/synth_dataset/official/foa/fold1_room10_mix001.wav', mode='r', samplerate=24000, channels=2, format='WAV', subtype='PCM_16', endian='FILE')\n"
     ]
    }
   ],
   "source": [
    "ob=sf.SoundFile(new_list_files[0])\n",
    "print(ob)"
   ]
  },
  {
   "cell_type": "code",
   "execution_count": 89,
   "metadata": {},
   "outputs": [
    {
     "name": "stdout",
     "output_type": "stream",
     "text": [
      "1200\n",
      "SoundFile('/home/var/Desktop/Mohor/einv2s/dataset/synth_dataset/official/foa/fold1_room10_mix001.wav', mode='r', samplerate=24000, channels=2, format='WAV', subtype='PCM_16', endian='FILE')\n"
     ]
    }
   ],
   "source": [
    "sanity_check=\"/home/var/Desktop/Mohor/einv2s/dataset/synth_dataset/official/foa\"\n",
    "sanity_check_files=sorted(Path(sanity_check).glob(\"*.wav\"))\n",
    "print(len(sanity_check_files))\n",
    "ob=sf.SoundFile(sanity_check_files[0])\n",
    "print(ob)"
   ]
  },
  {
   "cell_type": "code",
   "execution_count": null,
   "metadata": {},
   "outputs": [],
   "source": []
  }
 ],
 "metadata": {
  "kernelspec": {
   "display_name": "base",
   "language": "python",
   "name": "python3"
  },
  "language_info": {
   "codemirror_mode": {
    "name": "ipython",
    "version": 3
   },
   "file_extension": ".py",
   "mimetype": "text/x-python",
   "name": "python",
   "nbconvert_exporter": "python",
   "pygments_lexer": "ipython3",
   "version": "3.12.2"
  }
 },
 "nbformat": 4,
 "nbformat_minor": 2
}
