{
 "cells": [
  {
   "cell_type": "code",
   "execution_count": 30,
   "metadata": {},
   "outputs": [],
   "source": [
    "import soundfile as sf\n",
    "from pathlib import Path\n",
    "import numpy"
   ]
  },
  {
   "cell_type": "code",
   "execution_count": 31,
   "metadata": {},
   "outputs": [],
   "source": [
    "ref_files_folder=\"/home/var/Desktop/Mohor/einv2s/dataset/synth_dataset/official/foa\"\n",
    "new_folder=\"/home/var/Desktop/Mohor/einv2s/dataset_stereo/synth_dataset/official/foa\""
   ]
  },
  {
   "cell_type": "code",
   "execution_count": 32,
   "metadata": {},
   "outputs": [],
   "source": [
    "file_list = sorted(Path(ref_files_folder).glob(\"*.wav\"))"
   ]
  },
  {
   "cell_type": "code",
   "execution_count": 34,
   "metadata": {},
   "outputs": [],
   "source": [
    "for f in file_list:\n",
    "    data, samplerate = sf.read(f)\n",
    "    fn=f.stem\n",
    "    newfn=new_folder+\"/\"+fn+\".wav\"\n",
    "    left=data[:,0]+data[:,1]\n",
    "    right=data[:,0]-data[:,1]\n",
    "    left=left.reshape(left.shape[0],1)\n",
    "    right=right.reshape(right.shape[0],1)\n",
    "    stereos=numpy.concatenate((left,right),axis=1)\n",
    "    sf.write(newfn, stereos, samplerate)"
   ]
  },
  {
   "cell_type": "code",
   "execution_count": 33,
   "metadata": {},
   "outputs": [
    {
     "name": "stdout",
     "output_type": "stream",
     "text": [
      "1200\n"
     ]
    }
   ],
   "source": [
    "print(len(file_list))"
   ]
  },
  {
   "cell_type": "code",
   "execution_count": null,
   "metadata": {},
   "outputs": [],
   "source": []
  }
 ],
 "metadata": {
  "kernelspec": {
   "display_name": "base",
   "language": "python",
   "name": "python3"
  },
  "language_info": {
   "codemirror_mode": {
    "name": "ipython",
    "version": 3
   },
   "file_extension": ".py",
   "mimetype": "text/x-python",
   "name": "python",
   "nbconvert_exporter": "python",
   "pygments_lexer": "ipython3",
   "version": "3.12.2"
  }
 },
 "nbformat": 4,
 "nbformat_minor": 2
}
